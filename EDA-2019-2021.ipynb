{
 "cells": [
  {
   "cell_type": "code",
   "execution_count": 1,
   "id": "20715742",
   "metadata": {},
   "outputs": [],
   "source": [
    "import polars as pl\n",
    "import pandas as pd\n",
    "import numpy as np"
   ]
  },
  {
   "cell_type": "code",
   "execution_count": 2,
   "id": "a61289dc",
   "metadata": {},
   "outputs": [],
   "source": [
    "df11 = pl.scan_csv('38430-0001-Data.tsv',separator='\\t',dtypes={\"IDHH\": pl.Categorical,\"IDPER\": pl.Categorical},ignore_errors = True)\n",
    "result_df = df11.collect()\n",
    "df_1 = result_df"
   ]
  },
  {
   "cell_type": "code",
   "execution_count": 3,
   "id": "f5f9c147",
   "metadata": {},
   "outputs": [
    {
     "data": {
      "text/plain": [
       "3932046"
      ]
     },
     "execution_count": 3,
     "metadata": {},
     "output_type": "execute_result"
    }
   ],
   "source": [
    "len(df_1)"
   ]
  },
  {
   "cell_type": "code",
   "execution_count": 4,
   "id": "68847c08",
   "metadata": {},
   "outputs": [
    {
     "data": {
      "text/plain": [
       "Int64"
      ]
     },
     "execution_count": 4,
     "metadata": {},
     "output_type": "execute_result"
    }
   ],
   "source": [
    "df_1['YEAR'].dtype"
   ]
  },
  {
   "cell_type": "code",
   "execution_count": 5,
   "id": "e836333a",
   "metadata": {},
   "outputs": [],
   "source": [
    "final_df=df_1.filter(df_1['YEAR'].is_in([2019,2021]))"
   ]
  },
  {
   "cell_type": "code",
   "execution_count": 6,
   "id": "0d9a0f29",
   "metadata": {},
   "outputs": [
    {
     "data": {
      "text/html": [
       "<div><style>\n",
       ".dataframe > thead > tr,\n",
       ".dataframe > tbody > tr {\n",
       "  text-align: right;\n",
       "  white-space: pre-wrap;\n",
       "}\n",
       "</style>\n",
       "<small>shape: (510_394, 226)</small><table border=\"1\" class=\"dataframe\"><thead><tr><th>YEAR</th><th>YEARQ</th><th>YEARQ_ORIG</th><th>YEAR_ORIG</th><th>IDHH</th><th>V2001</th><th>V2002</th><th>V2003</th><th>V2004</th><th>V2005</th><th>V2006</th><th>V2007</th><th>V2008</th><th>V2009</th><th>V2010</th><th>V2011</th><th>V2012</th><th>V2013</th><th>V2014</th><th>V2015</th><th>V2016</th><th>V2017</th><th>V2143</th><th>V2018</th><th>V2019</th><th>V2020</th><th>V2021</th><th>V2022</th><th>V2023</th><th>V2024</th><th>V2025</th><th>V2025A</th><th>V2025B</th><th>V2026</th><th>SC214A</th><th>V2027</th><th>V2028</th><th>&hellip;</th><th>V2124</th><th>V2125</th><th>V2126A</th><th>V2126B</th><th>V2127A</th><th>V2127B</th><th>V2128A</th><th>V2128B</th><th>V2129</th><th>V2130</th><th>V2131</th><th>V2132</th><th>V2133</th><th>V2134</th><th>V2135</th><th>V2136</th><th>V2137</th><th>V2138</th><th>V2139</th><th>V2140</th><th>V2141</th><th>V2142</th><th>FRCODE</th><th>COHORT</th><th>TIS</th><th>ADDR_TIS</th><th>HH_TIS</th><th>HHINTVNUM</th><th>TYPEINTV_TIS1</th><th>TYPEINTV_TIS2</th><th>TYPEINTV_TIS3</th><th>TYPEINTV_TIS4</th><th>TYPEINTV_TIS5</th><th>TYPEINTV_TIS6</th><th>TYPEINTV_TIS7</th><th>HHBOUNDED</th><th>VFLAG</th></tr><tr><td>i64</td><td>f64</td><td>i64</td><td>i64</td><td>cat</td><td>i64</td><td>i64</td><td>i64</td><td>i64</td><td>i64</td><td>i64</td><td>i64</td><td>i64</td><td>i64</td><td>i64</td><td>i64</td><td>i64</td><td>i64</td><td>i64</td><td>i64</td><td>i64</td><td>i64</td><td>i64</td><td>i64</td><td>i64</td><td>i64</td><td>i64</td><td>i64</td><td>i64</td><td>i64</td><td>i64</td><td>i64</td><td>i64</td><td>i64</td><td>i64</td><td>i64</td><td>i64</td><td>&hellip;</td><td>i64</td><td>i64</td><td>i64</td><td>i64</td><td>i64</td><td>i64</td><td>i64</td><td>i64</td><td>i64</td><td>i64</td><td>i64</td><td>i64</td><td>i64</td><td>i64</td><td>i64</td><td>i64</td><td>i64</td><td>i64</td><td>i64</td><td>i64</td><td>i64</td><td>i64</td><td>i64</td><td>i64</td><td>i64</td><td>i64</td><td>i64</td><td>i64</td><td>i64</td><td>i64</td><td>i64</td><td>i64</td><td>i64</td><td>i64</td><td>i64</td><td>i64</td><td>i64</td></tr></thead><tbody><tr><td>2019</td><td>2019.1</td><td>9999</td><td>9999</td><td>&quot;16020002581336…</td><td>2</td><td>2</td><td>191</td><td>16</td><td>2000258133680568236</td><td>1</td><td>-2</td><td>17</td><td>0</td><td>9</td><td>9</td><td>99</td><td>999</td><td>9</td><td>9</td><td>1</td><td>1</td><td>-1</td><td>9</td><td>7</td><td>1</td><td>1</td><td>9</td><td>9</td><td>99</td><td>9</td><td>8</td><td>8</td><td>98</td><td>12</td><td>1</td><td>24</td><td>&hellip;</td><td>2</td><td>1</td><td>-2</td><td>19</td><td>-2</td><td>1</td><td>-2</td><td>1</td><td>1</td><td>1</td><td>2019</td><td>9</td><td>9</td><td>98</td><td>98</td><td>98</td><td>98</td><td>98</td><td>98</td><td>98</td><td>98</td><td>2019</td><td>-1</td><td>-1</td><td>5</td><td>5</td><td>5</td><td>0</td><td>2</td><td>2</td><td>2</td><td>2</td><td>3</td><td>9</td><td>9</td><td>0</td><td>9</td></tr><tr><td>2019</td><td>2019.1</td><td>9999</td><td>9999</td><td>&quot;16020002581636…</td><td>2</td><td>2</td><td>191</td><td>16</td><td>2000258163682568236</td><td>1</td><td>-2</td><td>11</td><td>0</td><td>9</td><td>9</td><td>99</td><td>999</td><td>2</td><td>9</td><td>1</td><td>1</td><td>-1</td><td>9</td><td>7</td><td>1</td><td>1</td><td>9</td><td>9</td><td>99</td><td>9</td><td>1</td><td>1</td><td>98</td><td>13</td><td>1</td><td>30</td><td>&hellip;</td><td>2</td><td>1</td><td>-2</td><td>16</td><td>-2</td><td>1</td><td>-2</td><td>1</td><td>2</td><td>1</td><td>2019</td><td>9</td><td>9</td><td>98</td><td>98</td><td>98</td><td>98</td><td>98</td><td>98</td><td>98</td><td>98</td><td>2019</td><td>-1</td><td>-1</td><td>4</td><td>4</td><td>4</td><td>1</td><td>2</td><td>1</td><td>2</td><td>2</td><td>9</td><td>9</td><td>9</td><td>0</td><td>9</td></tr><tr><td>2019</td><td>2019.1</td><td>9999</td><td>9999</td><td>&quot;16020002583594…</td><td>2</td><td>2</td><td>191</td><td>16</td><td>2000258359426568236</td><td>1</td><td>-2</td><td>17</td><td>0</td><td>9</td><td>9</td><td>99</td><td>999</td><td>1</td><td>9</td><td>1</td><td>1</td><td>-1</td><td>9</td><td>7</td><td>1</td><td>1</td><td>9</td><td>9</td><td>99</td><td>9</td><td>2</td><td>2</td><td>13</td><td>13</td><td>1</td><td>30</td><td>&hellip;</td><td>2</td><td>1</td><td>-2</td><td>16</td><td>-2</td><td>1</td><td>-2</td><td>1</td><td>2</td><td>1</td><td>2019</td><td>9</td><td>9</td><td>98</td><td>98</td><td>98</td><td>98</td><td>98</td><td>98</td><td>98</td><td>98</td><td>2019</td><td>-1</td><td>-1</td><td>5</td><td>5</td><td>5</td><td>2</td><td>1</td><td>2</td><td>2</td><td>1</td><td>2</td><td>9</td><td>9</td><td>1</td><td>9</td></tr><tr><td>2019</td><td>2019.1</td><td>9999</td><td>9999</td><td>&quot;16020002586836…</td><td>2</td><td>2</td><td>191</td><td>16</td><td>2000258683621568236</td><td>1</td><td>-2</td><td>11</td><td>0</td><td>1</td><td>1</td><td>1</td><td>998</td><td>1</td><td>1</td><td>1</td><td>1</td><td>-1</td><td>9</td><td>7</td><td>1</td><td>1</td><td>1</td><td>1</td><td>1</td><td>9</td><td>2</td><td>2</td><td>98</td><td>11</td><td>99</td><td>99</td><td>&hellip;</td><td>2</td><td>1</td><td>-2</td><td>0</td><td>-2</td><td>1</td><td>-2</td><td>1</td><td>2</td><td>1</td><td>2019</td><td>4</td><td>4</td><td>98</td><td>98</td><td>98</td><td>98</td><td>98</td><td>98</td><td>98</td><td>98</td><td>2019</td><td>-1</td><td>-1</td><td>4</td><td>4</td><td>4</td><td>4</td><td>1</td><td>1</td><td>1</td><td>1</td><td>9</td><td>9</td><td>9</td><td>1</td><td>1</td></tr><tr><td>2019</td><td>2019.1</td><td>9999</td><td>9999</td><td>&quot;16020002651346…</td><td>2</td><td>2</td><td>191</td><td>16</td><td>2000265134680568236</td><td>1</td><td>-2</td><td>17</td><td>0</td><td>1</td><td>1</td><td>1</td><td>998</td><td>1</td><td>1</td><td>1</td><td>1</td><td>-1</td><td>9</td><td>7</td><td>1</td><td>1</td><td>8</td><td>8</td><td>1</td><td>9</td><td>2</td><td>2</td><td>17</td><td>17</td><td>99</td><td>99</td><td>&hellip;</td><td>2</td><td>1</td><td>-2</td><td>16</td><td>-2</td><td>1</td><td>-2</td><td>1</td><td>2</td><td>1</td><td>2019</td><td>4</td><td>4</td><td>98</td><td>98</td><td>98</td><td>98</td><td>98</td><td>98</td><td>98</td><td>98</td><td>2019</td><td>-1</td><td>-1</td><td>5</td><td>5</td><td>5</td><td>3</td><td>2</td><td>2</td><td>1</td><td>1</td><td>1</td><td>9</td><td>9</td><td>1</td><td>1</td></tr><tr><td>2019</td><td>2019.1</td><td>9999</td><td>9999</td><td>&quot;16020002655246…</td><td>2</td><td>2</td><td>191</td><td>16</td><td>2000265524673568236</td><td>1</td><td>-2</td><td>11</td><td>0</td><td>1</td><td>3</td><td>1</td><td>998</td><td>2</td><td>2</td><td>1</td><td>1</td><td>-1</td><td>9</td><td>7</td><td>1</td><td>1</td><td>8</td><td>8</td><td>6</td><td>1</td><td>2</td><td>2</td><td>15</td><td>15</td><td>99</td><td>99</td><td>&hellip;</td><td>2</td><td>1</td><td>-2</td><td>0</td><td>-2</td><td>1</td><td>-2</td><td>1</td><td>2</td><td>1</td><td>2019</td><td>4</td><td>4</td><td>98</td><td>98</td><td>98</td><td>98</td><td>98</td><td>98</td><td>98</td><td>98</td><td>2019</td><td>-1</td><td>-1</td><td>4</td><td>4</td><td>4</td><td>1</td><td>3</td><td>2</td><td>2</td><td>1</td><td>9</td><td>9</td><td>9</td><td>0</td><td>1</td></tr><tr><td>2019</td><td>2019.1</td><td>9999</td><td>9999</td><td>&quot;16020002841646…</td><td>2</td><td>1</td><td>191</td><td>16</td><td>2000284164631568236</td><td>1</td><td>-2</td><td>17</td><td>0</td><td>9</td><td>9</td><td>99</td><td>999</td><td>9</td><td>9</td><td>9</td><td>1</td><td>-1</td><td>9</td><td>7</td><td>1</td><td>1</td><td>9</td><td>9</td><td>99</td><td>9</td><td>8</td><td>8</td><td>98</td><td>13</td><td>1</td><td>29</td><td>&hellip;</td><td>2</td><td>1</td><td>-2</td><td>13</td><td>-2</td><td>1</td><td>-2</td><td>1</td><td>2</td><td>1</td><td>2019</td><td>9</td><td>9</td><td>98</td><td>98</td><td>98</td><td>98</td><td>98</td><td>98</td><td>98</td><td>98</td><td>2019</td><td>-1</td><td>-1</td><td>5</td><td>5</td><td>5</td><td>0</td><td>2</td><td>2</td><td>2</td><td>2</td><td>2</td><td>9</td><td>9</td><td>0</td><td>9</td></tr><tr><td>2019</td><td>2019.1</td><td>9999</td><td>9999</td><td>&quot;16020002846846…</td><td>2</td><td>25</td><td>191</td><td>16</td><td>2000284684650568236</td><td>1</td><td>-2</td><td>31</td><td>0</td><td>1</td><td>1</td><td>2</td><td>998</td><td>1</td><td>1</td><td>1</td><td>1</td><td>-1</td><td>9</td><td>7</td><td>1</td><td>1</td><td>1</td><td>1</td><td>1</td><td>9</td><td>2</td><td>2</td><td>15</td><td>15</td><td>99</td><td>99</td><td>&hellip;</td><td>2</td><td>1</td><td>-2</td><td>13</td><td>-2</td><td>1</td><td>-2</td><td>1</td><td>2</td><td>3</td><td>2019</td><td>4</td><td>4</td><td>98</td><td>98</td><td>98</td><td>98</td><td>98</td><td>98</td><td>98</td><td>98</td><td>2019</td><td>-1</td><td>-1</td><td>4</td><td>4</td><td>4</td><td>4</td><td>1</td><td>1</td><td>1</td><td>1</td><td>9</td><td>9</td><td>9</td><td>1</td><td>1</td></tr><tr><td>2019</td><td>2019.1</td><td>9999</td><td>9999</td><td>&quot;16020013580265…</td><td>2</td><td>9</td><td>191</td><td>16</td><td>2001358026592568234</td><td>1</td><td>-2</td><td>37</td><td>0</td><td>9</td><td>9</td><td>99</td><td>999</td><td>9</td><td>9</td><td>1</td><td>1</td><td>-1</td><td>9</td><td>7</td><td>1</td><td>1</td><td>9</td><td>9</td><td>99</td><td>9</td><td>8</td><td>8</td><td>98</td><td>16</td><td>3</td><td>9</td><td>&hellip;</td><td>2</td><td>1</td><td>-2</td><td>16</td><td>-2</td><td>1</td><td>-2</td><td>1</td><td>2</td><td>3</td><td>2019</td><td>9</td><td>9</td><td>98</td><td>98</td><td>98</td><td>98</td><td>98</td><td>98</td><td>98</td><td>98</td><td>2019</td><td>-1</td><td>-1</td><td>5</td><td>5</td><td>5</td><td>0</td><td>2</td><td>2</td><td>2</td><td>2</td><td>2</td><td>9</td><td>9</td><td>0</td><td>9</td></tr><tr><td>2019</td><td>2019.1</td><td>9999</td><td>9999</td><td>&quot;16020013650236…</td><td>2</td><td>5</td><td>191</td><td>16</td><td>2001365023692568234</td><td>1</td><td>-2</td><td>21</td><td>0</td><td>1</td><td>1</td><td>1</td><td>998</td><td>2</td><td>2</td><td>1</td><td>1</td><td>-1</td><td>9</td><td>7</td><td>1</td><td>1</td><td>1</td><td>1</td><td>6</td><td>2</td><td>1</td><td>1</td><td>4</td><td>4</td><td>99</td><td>99</td><td>&hellip;</td><td>2</td><td>1</td><td>-2</td><td>19</td><td>-2</td><td>1</td><td>-2</td><td>1</td><td>1</td><td>2</td><td>2019</td><td>4</td><td>4</td><td>98</td><td>98</td><td>98</td><td>98</td><td>98</td><td>98</td><td>98</td><td>98</td><td>2019</td><td>-1</td><td>-1</td><td>4</td><td>4</td><td>4</td><td>4</td><td>1</td><td>1</td><td>1</td><td>1</td><td>9</td><td>9</td><td>9</td><td>1</td><td>1</td></tr><tr><td>2019</td><td>2019.1</td><td>9999</td><td>9999</td><td>&quot;16020016581946…</td><td>2</td><td>8</td><td>191</td><td>16</td><td>2001658194653568245</td><td>1</td><td>-2</td><td>27</td><td>0</td><td>1</td><td>1</td><td>1</td><td>998</td><td>2</td><td>2</td><td>1</td><td>1</td><td>-1</td><td>9</td><td>7</td><td>1</td><td>1</td><td>5</td><td>9</td><td>6</td><td>1</td><td>1</td><td>1</td><td>98</td><td>6</td><td>99</td><td>99</td><td>&hellip;</td><td>2</td><td>1</td><td>-2</td><td>0</td><td>-2</td><td>1</td><td>-2</td><td>1</td><td>2</td><td>2</td><td>2019</td><td>4</td><td>4</td><td>98</td><td>98</td><td>98</td><td>98</td><td>98</td><td>98</td><td>98</td><td>98</td><td>2019</td><td>-1</td><td>-1</td><td>5</td><td>5</td><td>5</td><td>5</td><td>1</td><td>1</td><td>1</td><td>1</td><td>1</td><td>9</td><td>9</td><td>1</td><td>1</td></tr><tr><td>2019</td><td>2019.1</td><td>9999</td><td>9999</td><td>&quot;16020016583946…</td><td>2</td><td>12</td><td>191</td><td>16</td><td>2001658394627568245</td><td>1</td><td>-2</td><td>31</td><td>0</td><td>1</td><td>1</td><td>1</td><td>998</td><td>2</td><td>2</td><td>1</td><td>1</td><td>-1</td><td>9</td><td>7</td><td>1</td><td>1</td><td>1</td><td>1</td><td>4</td><td>1</td><td>2</td><td>2</td><td>10</td><td>10</td><td>99</td><td>99</td><td>&hellip;</td><td>2</td><td>1</td><td>-2</td><td>16</td><td>-2</td><td>1</td><td>-2</td><td>1</td><td>1</td><td>3</td><td>2019</td><td>4</td><td>4</td><td>98</td><td>98</td><td>98</td><td>98</td><td>98</td><td>98</td><td>98</td><td>98</td><td>2019</td><td>-1</td><td>-1</td><td>4</td><td>4</td><td>4</td><td>4</td><td>1</td><td>1</td><td>1</td><td>1</td><td>9</td><td>9</td><td>9</td><td>1</td><td>1</td></tr><tr><td>&hellip;</td><td>&hellip;</td><td>&hellip;</td><td>&hellip;</td><td>&hellip;</td><td>&hellip;</td><td>&hellip;</td><td>&hellip;</td><td>&hellip;</td><td>&hellip;</td><td>&hellip;</td><td>&hellip;</td><td>&hellip;</td><td>&hellip;</td><td>&hellip;</td><td>&hellip;</td><td>&hellip;</td><td>&hellip;</td><td>&hellip;</td><td>&hellip;</td><td>&hellip;</td><td>&hellip;</td><td>&hellip;</td><td>&hellip;</td><td>&hellip;</td><td>&hellip;</td><td>&hellip;</td><td>&hellip;</td><td>&hellip;</td><td>&hellip;</td><td>&hellip;</td><td>&hellip;</td><td>&hellip;</td><td>&hellip;</td><td>&hellip;</td><td>&hellip;</td><td>&hellip;</td><td>&hellip;</td><td>&hellip;</td><td>&hellip;</td><td>&hellip;</td><td>&hellip;</td><td>&hellip;</td><td>&hellip;</td><td>&hellip;</td><td>&hellip;</td><td>&hellip;</td><td>&hellip;</td><td>&hellip;</td><td>&hellip;</td><td>&hellip;</td><td>&hellip;</td><td>&hellip;</td><td>&hellip;</td><td>&hellip;</td><td>&hellip;</td><td>&hellip;</td><td>&hellip;</td><td>&hellip;</td><td>&hellip;</td><td>&hellip;</td><td>&hellip;</td><td>&hellip;</td><td>&hellip;</td><td>&hellip;</td><td>&hellip;</td><td>&hellip;</td><td>&hellip;</td><td>&hellip;</td><td>&hellip;</td><td>&hellip;</td><td>&hellip;</td><td>&hellip;</td><td>&hellip;</td><td>&hellip;</td></tr><tr><td>2021</td><td>2021.4</td><td>9999</td><td>9999</td><td>&quot;20959852585916…</td><td>2</td><td>64185</td><td>214</td><td>20</td><td>null</td><td>1</td><td>-2</td><td>61</td><td>0</td><td>1</td><td>3</td><td>1</td><td>998</td><td>2</td><td>2</td><td>1</td><td>1</td><td>2</td><td>9</td><td>7</td><td>1</td><td>1</td><td>8</td><td>8</td><td>6</td><td>1</td><td>1</td><td>1</td><td>15</td><td>15</td><td>99</td><td>99</td><td>&hellip;</td><td>2</td><td>1</td><td>-2</td><td>16</td><td>-2</td><td>3</td><td>-2</td><td>1</td><td>2</td><td>12</td><td>2021</td><td>4</td><td>4</td><td>98</td><td>98</td><td>98</td><td>98</td><td>98</td><td>98</td><td>98</td><td>98</td><td>2021</td><td>-1</td><td>-1</td><td>2</td><td>2</td><td>2</td><td>1</td><td>2</td><td>1</td><td>9</td><td>9</td><td>9</td><td>9</td><td>9</td><td>0</td><td>1</td></tr><tr><td>2021</td><td>2021.4</td><td>9999</td><td>9999</td><td>&quot;20959852588216…</td><td>2</td><td>64186</td><td>214</td><td>20</td><td>null</td><td>2</td><td>-2</td><td>51</td><td>0</td><td>1</td><td>2</td><td>1</td><td>998</td><td>2</td><td>2</td><td>1</td><td>1</td><td>2</td><td>9</td><td>7</td><td>1</td><td>1</td><td>8</td><td>8</td><td>6</td><td>1</td><td>2</td><td>2</td><td>98</td><td>10</td><td>99</td><td>99</td><td>&hellip;</td><td>2</td><td>1</td><td>-2</td><td>0</td><td>-2</td><td>3</td><td>-2</td><td>1</td><td>2</td><td>11</td><td>2021</td><td>4</td><td>4</td><td>98</td><td>98</td><td>98</td><td>98</td><td>98</td><td>98</td><td>98</td><td>98</td><td>2021</td><td>-1</td><td>-1</td><td>2</td><td>2</td><td>1</td><td>1</td><td>9</td><td>1</td><td>9</td><td>9</td><td>9</td><td>9</td><td>9</td><td>0</td><td>1</td></tr><tr><td>2021</td><td>2021.4</td><td>9999</td><td>9999</td><td>&quot;20959852654169…</td><td>2</td><td>64187</td><td>214</td><td>20</td><td>null</td><td>1</td><td>-2</td><td>52</td><td>0</td><td>9</td><td>9</td><td>99</td><td>999</td><td>9</td><td>9</td><td>1</td><td>1</td><td>2</td><td>9</td><td>7</td><td>12</td><td>12</td><td>9</td><td>9</td><td>99</td><td>9</td><td>8</td><td>8</td><td>98</td><td>13</td><td>11</td><td>16</td><td>&hellip;</td><td>1</td><td>1</td><td>-2</td><td>16</td><td>-2</td><td>3</td><td>-2</td><td>1</td><td>2</td><td>11</td><td>2021</td><td>9</td><td>9</td><td>98</td><td>98</td><td>98</td><td>98</td><td>98</td><td>98</td><td>98</td><td>98</td><td>2021</td><td>-1</td><td>-1</td><td>1</td><td>1</td><td>1</td><td>0</td><td>2</td><td>9</td><td>9</td><td>9</td><td>9</td><td>9</td><td>9</td><td>0</td><td>9</td></tr><tr><td>2021</td><td>2021.4</td><td>9999</td><td>9999</td><td>&quot;20959852921979…</td><td>2</td><td>64188</td><td>214</td><td>20</td><td>null</td><td>1</td><td>-2</td><td>61</td><td>0</td><td>1</td><td>1</td><td>1</td><td>998</td><td>1</td><td>1</td><td>1</td><td>1</td><td>2</td><td>9</td><td>7</td><td>1</td><td>1</td><td>1</td><td>1</td><td>1</td><td>9</td><td>2</td><td>2</td><td>17</td><td>17</td><td>99</td><td>99</td><td>&hellip;</td><td>2</td><td>1</td><td>-2</td><td>0</td><td>-2</td><td>3</td><td>-2</td><td>1</td><td>2</td><td>12</td><td>2021</td><td>4</td><td>4</td><td>98</td><td>98</td><td>98</td><td>98</td><td>98</td><td>98</td><td>98</td><td>98</td><td>2021</td><td>-1</td><td>-1</td><td>2</td><td>2</td><td>2</td><td>2</td><td>1</td><td>1</td><td>9</td><td>9</td><td>9</td><td>9</td><td>9</td><td>1</td><td>1</td></tr><tr><td>2021</td><td>2021.4</td><td>9999</td><td>9999</td><td>&quot;20959868031306…</td><td>2</td><td>64189</td><td>214</td><td>20</td><td>null</td><td>1</td><td>-2</td><td>62</td><td>0</td><td>9</td><td>9</td><td>99</td><td>999</td><td>9</td><td>9</td><td>1</td><td>1</td><td>1</td><td>9</td><td>7</td><td>1</td><td>1</td><td>9</td><td>9</td><td>99</td><td>9</td><td>8</td><td>8</td><td>98</td><td>15</td><td>12</td><td>28</td><td>&hellip;</td><td>1</td><td>1</td><td>-2</td><td>17</td><td>-2</td><td>3</td><td>-2</td><td>1</td><td>1</td><td>12</td><td>2021</td><td>9</td><td>9</td><td>98</td><td>98</td><td>98</td><td>98</td><td>98</td><td>98</td><td>98</td><td>98</td><td>2021</td><td>-1</td><td>-1</td><td>1</td><td>1</td><td>1</td><td>0</td><td>3</td><td>9</td><td>9</td><td>9</td><td>9</td><td>9</td><td>9</td><td>0</td><td>9</td></tr><tr><td>2021</td><td>2021.4</td><td>9999</td><td>9999</td><td>&quot;20959868151306…</td><td>2</td><td>64190</td><td>214</td><td>20</td><td>null</td><td>1</td><td>-2</td><td>51</td><td>0</td><td>1</td><td>1</td><td>1</td><td>998</td><td>1</td><td>1</td><td>1</td><td>1</td><td>2</td><td>9</td><td>7</td><td>1</td><td>1</td><td>1</td><td>8</td><td>1</td><td>9</td><td>2</td><td>2</td><td>98</td><td>12</td><td>99</td><td>99</td><td>&hellip;</td><td>2</td><td>1</td><td>-2</td><td>17</td><td>-2</td><td>3</td><td>-2</td><td>1</td><td>2</td><td>11</td><td>2021</td><td>4</td><td>4</td><td>98</td><td>98</td><td>98</td><td>98</td><td>98</td><td>98</td><td>98</td><td>98</td><td>2021</td><td>-1</td><td>-1</td><td>2</td><td>2</td><td>2</td><td>2</td><td>1</td><td>1</td><td>9</td><td>9</td><td>9</td><td>9</td><td>9</td><td>1</td><td>1</td></tr><tr><td>2021</td><td>2021.4</td><td>9999</td><td>9999</td><td>&quot;20959868583615…</td><td>2</td><td>64191</td><td>214</td><td>20</td><td>null</td><td>1</td><td>-2</td><td>42</td><td>0</td><td>2</td><td>9</td><td>1</td><td>998</td><td>1</td><td>1</td><td>1</td><td>1</td><td>2</td><td>9</td><td>7</td><td>1</td><td>1</td><td>1</td><td>1</td><td>1</td><td>9</td><td>2</td><td>2</td><td>98</td><td>16</td><td>99</td><td>99</td><td>&hellip;</td><td>1</td><td>1</td><td>-2</td><td>17</td><td>-2</td><td>3</td><td>-2</td><td>1</td><td>2</td><td>10</td><td>2021</td><td>4</td><td>4</td><td>98</td><td>98</td><td>98</td><td>98</td><td>98</td><td>98</td><td>98</td><td>98</td><td>2021</td><td>-1</td><td>-1</td><td>1</td><td>1</td><td>1</td><td>1</td><td>1</td><td>9</td><td>9</td><td>9</td><td>9</td><td>9</td><td>9</td><td>0</td><td>1</td></tr><tr><td>2021</td><td>2021.4</td><td>9999</td><td>9999</td><td>&quot;20959868650279…</td><td>2</td><td>64192</td><td>214</td><td>20</td><td>null</td><td>1</td><td>-2</td><td>51</td><td>0</td><td>9</td><td>9</td><td>99</td><td>999</td><td>9</td><td>9</td><td>1</td><td>1</td><td>2</td><td>9</td><td>7</td><td>1</td><td>1</td><td>9</td><td>9</td><td>99</td><td>9</td><td>8</td><td>8</td><td>98</td><td>11</td><td>11</td><td>20</td><td>&hellip;</td><td>2</td><td>1</td><td>-2</td><td>16</td><td>-2</td><td>3</td><td>-2</td><td>1</td><td>2</td><td>11</td><td>2021</td><td>9</td><td>9</td><td>98</td><td>98</td><td>98</td><td>98</td><td>98</td><td>98</td><td>98</td><td>98</td><td>2021</td><td>-1</td><td>-1</td><td>2</td><td>2</td><td>2</td><td>0</td><td>2</td><td>2</td><td>9</td><td>9</td><td>9</td><td>9</td><td>9</td><td>0</td><td>9</td></tr><tr><td>2021</td><td>2021.4</td><td>9999</td><td>9999</td><td>&quot;20959868651927…</td><td>2</td><td>64193</td><td>214</td><td>20</td><td>null</td><td>1</td><td>-2</td><td>42</td><td>0</td><td>9</td><td>9</td><td>99</td><td>999</td><td>9</td><td>9</td><td>1</td><td>1</td><td>2</td><td>9</td><td>7</td><td>1</td><td>1</td><td>9</td><td>9</td><td>99</td><td>9</td><td>8</td><td>8</td><td>98</td><td>17</td><td>10</td><td>98</td><td>&hellip;</td><td>1</td><td>1</td><td>-2</td><td>18</td><td>-2</td><td>3</td><td>-2</td><td>1</td><td>1</td><td>10</td><td>2021</td><td>9</td><td>9</td><td>98</td><td>98</td><td>98</td><td>98</td><td>98</td><td>98</td><td>98</td><td>98</td><td>2021</td><td>-1</td><td>-1</td><td>1</td><td>1</td><td>1</td><td>0</td><td>2</td><td>9</td><td>9</td><td>9</td><td>9</td><td>9</td><td>9</td><td>0</td><td>9</td></tr><tr><td>2021</td><td>2021.4</td><td>9999</td><td>9999</td><td>&quot;20959868654127…</td><td>2</td><td>64194</td><td>214</td><td>20</td><td>null</td><td>1</td><td>-2</td><td>42</td><td>0</td><td>9</td><td>9</td><td>99</td><td>999</td><td>9</td><td>9</td><td>1</td><td>1</td><td>2</td><td>9</td><td>7</td><td>1</td><td>1</td><td>9</td><td>9</td><td>99</td><td>9</td><td>8</td><td>8</td><td>98</td><td>18</td><td>10</td><td>25</td><td>&hellip;</td><td>1</td><td>1</td><td>-2</td><td>18</td><td>-2</td><td>3</td><td>-2</td><td>1</td><td>1</td><td>10</td><td>2021</td><td>9</td><td>9</td><td>98</td><td>98</td><td>98</td><td>98</td><td>98</td><td>98</td><td>98</td><td>98</td><td>2021</td><td>-1</td><td>-1</td><td>1</td><td>1</td><td>1</td><td>0</td><td>2</td><td>9</td><td>9</td><td>9</td><td>9</td><td>9</td><td>9</td><td>0</td><td>9</td></tr><tr><td>2021</td><td>2021.4</td><td>9999</td><td>9999</td><td>&quot;20959868654134…</td><td>2</td><td>64195</td><td>214</td><td>20</td><td>null</td><td>1</td><td>-2</td><td>61</td><td>0</td><td>1</td><td>1</td><td>1</td><td>998</td><td>2</td><td>2</td><td>1</td><td>1</td><td>2</td><td>9</td><td>7</td><td>1</td><td>1</td><td>1</td><td>1</td><td>6</td><td>1</td><td>2</td><td>2</td><td>8</td><td>8</td><td>99</td><td>99</td><td>&hellip;</td><td>2</td><td>1</td><td>-2</td><td>18</td><td>-2</td><td>3</td><td>-2</td><td>1</td><td>2</td><td>12</td><td>2021</td><td>4</td><td>4</td><td>98</td><td>98</td><td>98</td><td>98</td><td>98</td><td>98</td><td>98</td><td>98</td><td>2021</td><td>-1</td><td>-1</td><td>2</td><td>2</td><td>2</td><td>2</td><td>1</td><td>1</td><td>9</td><td>9</td><td>9</td><td>9</td><td>9</td><td>1</td><td>1</td></tr><tr><td>2021</td><td>2021.4</td><td>9999</td><td>9999</td><td>&quot;20959868654153…</td><td>2</td><td>64196</td><td>214</td><td>20</td><td>null</td><td>1</td><td>-2</td><td>41</td><td>0</td><td>9</td><td>9</td><td>99</td><td>999</td><td>2</td><td>9</td><td>1</td><td>1</td><td>2</td><td>9</td><td>7</td><td>1</td><td>1</td><td>9</td><td>9</td><td>99</td><td>9</td><td>2</td><td>2</td><td>13</td><td>13</td><td>10</td><td>30</td><td>&hellip;</td><td>2</td><td>1</td><td>-2</td><td>20</td><td>-2</td><td>3</td><td>-2</td><td>1</td><td>1</td><td>10</td><td>2021</td><td>9</td><td>9</td><td>98</td><td>98</td><td>98</td><td>98</td><td>98</td><td>98</td><td>98</td><td>98</td><td>2021</td><td>-1</td><td>-1</td><td>2</td><td>2</td><td>2</td><td>1</td><td>1</td><td>2</td><td>9</td><td>9</td><td>9</td><td>9</td><td>9</td><td>1</td><td>9</td></tr></tbody></table></div>"
      ],
      "text/plain": [
       "shape: (510_394, 226)\n",
       "┌──────┬────────┬────────────┬───────────┬───┬───────────────┬───────────────┬───────────┬───────┐\n",
       "│ YEAR ┆ YEARQ  ┆ YEARQ_ORIG ┆ YEAR_ORIG ┆ … ┆ TYPEINTV_TIS6 ┆ TYPEINTV_TIS7 ┆ HHBOUNDED ┆ VFLAG │\n",
       "│ ---  ┆ ---    ┆ ---        ┆ ---       ┆   ┆ ---           ┆ ---           ┆ ---       ┆ ---   │\n",
       "│ i64  ┆ f64    ┆ i64        ┆ i64       ┆   ┆ i64           ┆ i64           ┆ i64       ┆ i64   │\n",
       "╞══════╪════════╪════════════╪═══════════╪═══╪═══════════════╪═══════════════╪═══════════╪═══════╡\n",
       "│ 2019 ┆ 2019.1 ┆ 9999       ┆ 9999      ┆ … ┆ 9             ┆ 9             ┆ 0         ┆ 9     │\n",
       "│ 2019 ┆ 2019.1 ┆ 9999       ┆ 9999      ┆ … ┆ 9             ┆ 9             ┆ 0         ┆ 9     │\n",
       "│ 2019 ┆ 2019.1 ┆ 9999       ┆ 9999      ┆ … ┆ 9             ┆ 9             ┆ 1         ┆ 9     │\n",
       "│ 2019 ┆ 2019.1 ┆ 9999       ┆ 9999      ┆ … ┆ 9             ┆ 9             ┆ 1         ┆ 1     │\n",
       "│ …    ┆ …      ┆ …          ┆ …         ┆ … ┆ …             ┆ …             ┆ …         ┆ …     │\n",
       "│ 2021 ┆ 2021.4 ┆ 9999       ┆ 9999      ┆ … ┆ 9             ┆ 9             ┆ 0         ┆ 9     │\n",
       "│ 2021 ┆ 2021.4 ┆ 9999       ┆ 9999      ┆ … ┆ 9             ┆ 9             ┆ 0         ┆ 9     │\n",
       "│ 2021 ┆ 2021.4 ┆ 9999       ┆ 9999      ┆ … ┆ 9             ┆ 9             ┆ 1         ┆ 1     │\n",
       "│ 2021 ┆ 2021.4 ┆ 9999       ┆ 9999      ┆ … ┆ 9             ┆ 9             ┆ 1         ┆ 9     │\n",
       "└──────┴────────┴────────────┴───────────┴───┴───────────────┴───────────────┴───────────┴───────┘"
      ]
     },
     "execution_count": 6,
     "metadata": {},
     "output_type": "execute_result"
    }
   ],
   "source": [
    "final_df"
   ]
  },
  {
   "cell_type": "code",
   "execution_count": 7,
   "id": "083d7eff",
   "metadata": {},
   "outputs": [],
   "source": [
    "#Converting to pandas as it is a smaller dataframe\n",
    "final_df = final_df.to_pandas()"
   ]
  },
  {
   "cell_type": "markdown",
   "id": "d5fd3181",
   "metadata": {},
   "source": [
    "## Removing Columns"
   ]
  },
  {
   "cell_type": "code",
   "execution_count": 8,
   "id": "9c220917",
   "metadata": {},
   "outputs": [
    {
     "name": "stdout",
     "output_type": "stream",
     "text": [
      "        YEAR   YEARQ                       IDHH  V2002  V2003  V2004  \\\n",
      "0       2019  2019.1  1602000258133680568236117      2    191     16   \n",
      "1       2019  2019.1  1602000258163682568236111      2    191     16   \n",
      "2       2019  2019.1  1602000258359426568236117      2    191     16   \n",
      "3       2019  2019.1  1602000258683621568236111      2    191     16   \n",
      "4       2019  2019.1  1602000265134680568236117      2    191     16   \n",
      "...      ...     ...                        ...    ...    ...    ...   \n",
      "510389  2021  2021.4  2095986865027937564558151  64192    214     20   \n",
      "510390  2021  2021.4  2095986865192721564558142  64193    214     20   \n",
      "510391  2021  2021.4  2095986865412780564558142  64194    214     20   \n",
      "510392  2021  2021.4  2095986865413466564558161  64195    214     20   \n",
      "510393  2021  2021.4  2095986865415313564558141  64196    214     20   \n",
      "\n",
      "               V2005  V2006  V2008  V2010  ...  HHINTVNUM  TYPEINTV_TIS1  \\\n",
      "0       2.000258e+18      1     17      9  ...          0              2   \n",
      "1       2.000258e+18      1     11      9  ...          1              2   \n",
      "2       2.000258e+18      1     17      9  ...          2              1   \n",
      "3       2.000259e+18      1     11      1  ...          4              1   \n",
      "4       2.000265e+18      1     17      1  ...          3              2   \n",
      "...              ...    ...    ...    ...  ...        ...            ...   \n",
      "510389           NaN      1     51      9  ...          0              2   \n",
      "510390           NaN      1     42      9  ...          0              2   \n",
      "510391           NaN      1     42      9  ...          0              2   \n",
      "510392           NaN      1     61      1  ...          2              1   \n",
      "510393           NaN      1     41      9  ...          1              1   \n",
      "\n",
      "        TYPEINTV_TIS2  TYPEINTV_TIS3  TYPEINTV_TIS4  TYPEINTV_TIS5  \\\n",
      "0                   2              2              2              3   \n",
      "1                   1              2              2              9   \n",
      "2                   2              2              1              2   \n",
      "3                   1              1              1              9   \n",
      "4                   2              1              1              1   \n",
      "...               ...            ...            ...            ...   \n",
      "510389              2              9              9              9   \n",
      "510390              9              9              9              9   \n",
      "510391              9              9              9              9   \n",
      "510392              1              9              9              9   \n",
      "510393              2              9              9              9   \n",
      "\n",
      "        TYPEINTV_TIS6  TYPEINTV_TIS7  HHBOUNDED  VFLAG  \n",
      "0                   9              9          0      9  \n",
      "1                   9              9          0      9  \n",
      "2                   9              9          1      9  \n",
      "3                   9              9          1      1  \n",
      "4                   9              9          1      1  \n",
      "...               ...            ...        ...    ...  \n",
      "510389              9              9          0      9  \n",
      "510390              9              9          0      9  \n",
      "510391              9              9          0      9  \n",
      "510392              9              9          1      1  \n",
      "510393              9              9          1      9  \n",
      "\n",
      "[510394 rows x 130 columns]\n"
     ]
    }
   ],
   "source": [
    "#Removing columns with a single entry\n",
    "for a in final_df.columns:\n",
    "    unique_vals = final_df[a].unique()\n",
    "\n",
    "    if len(unique_vals) == 1:\n",
    "        final_df = final_df.drop(a,axis=1)\n",
    "\n",
    "print(final_df)"
   ]
  },
  {
   "cell_type": "code",
   "execution_count": 9,
   "id": "2226db14",
   "metadata": {},
   "outputs": [
    {
     "data": {
      "text/plain": [
       "Index(['YEAR', 'YEARQ', 'IDHH', 'V2002', 'V2003', 'V2004', 'V2005', 'V2006',\n",
       "       'V2008', 'V2010',\n",
       "       ...\n",
       "       'HHINTVNUM', 'TYPEINTV_TIS1', 'TYPEINTV_TIS2', 'TYPEINTV_TIS3',\n",
       "       'TYPEINTV_TIS4', 'TYPEINTV_TIS5', 'TYPEINTV_TIS6', 'TYPEINTV_TIS7',\n",
       "       'HHBOUNDED', 'VFLAG'],\n",
       "      dtype='object', length=130)"
      ]
     },
     "execution_count": 9,
     "metadata": {},
     "output_type": "execute_result"
    }
   ],
   "source": [
    "final_df.columns"
   ]
  },
  {
   "cell_type": "markdown",
   "id": "09752406",
   "metadata": {},
   "source": [
    "#Columns to delete based on context\n",
    "V2002 - Can get this info from IDHH\n",
    "V2003 - Can get this from YEARQ\n",
    "V2004, V2005, V2008, V2010, V2011, V2012, V2013 - Related to survey\n",
    "V2014, V2016, V2018, V2020, V2026 - Using the most updated columns\n",
    "V2143 - Can get this info from V2017"
   ]
  },
  {
   "cell_type": "code",
   "execution_count": 10,
   "id": "9b995027",
   "metadata": {},
   "outputs": [
    {
     "data": {
      "text/plain": [
       "V2006\n",
       "1    455136\n",
       "2     55258\n",
       "Name: count, dtype: int64"
      ]
     },
     "execution_count": 10,
     "metadata": {},
     "output_type": "execute_result"
    }
   ],
   "source": [
    "#Recoding Household number as Original - 1 or Replacement - 2\n",
    "final_df.loc[final_df['V2006']>=2,'V2006']=2\n",
    "final_df['V2006'].value_counts()"
   ]
  },
  {
   "cell_type": "code",
   "execution_count": 11,
   "id": "3e242a11",
   "metadata": {},
   "outputs": [
    {
     "data": {
      "text/plain": [
       "V2015\n",
       "1    206075\n",
       "9    205180\n",
       "2     99139\n",
       "Name: count, dtype: int64"
      ]
     },
     "execution_count": 11,
     "metadata": {},
     "output_type": "execute_result"
    }
   ],
   "source": [
    "#Recoding Tenure as Owned - 1 or Rented - 2\n",
    "final_df.loc[(final_df['V2015']==2) | (final_df['V2015']==3),'V2015']=2\n",
    "final_df['V2015'].value_counts()"
   ]
  },
  {
   "cell_type": "code",
   "execution_count": 14,
   "id": "d4ed74bc",
   "metadata": {},
   "outputs": [
    {
     "data": {
      "text/plain": [
       "V2019\n",
       "8    395469\n",
       "2    104645\n",
       "1      5407\n",
       "9      4873\n",
       "Name: count, dtype: int64"
      ]
     },
     "execution_count": 14,
     "metadata": {},
     "output_type": "execute_result"
    }
   ],
   "source": [
    "#Combining blanks and residue as one entry in Farm Sales\n",
    "final_df.loc[(final_df['V2019']==7) | (final_df['V2019']==8),'V2019']=8\n",
    "final_df['V2019'].value_counts()"
   ]
  },
  {
   "cell_type": "code",
   "execution_count": 15,
   "id": "1c80d168",
   "metadata": {},
   "outputs": [
    {
     "data": {
      "text/plain": [
       "V2021\n",
       "1     482453\n",
       "5      11428\n",
       "11      4923\n",
       "99      4873\n",
       "12      2315\n",
       "6       1763\n",
       "10      1077\n",
       "7        526\n",
       "2        324\n",
       "4        267\n",
       "8        250\n",
       "3        101\n",
       "9         94\n",
       "Name: count, dtype: int64"
      ]
     },
     "execution_count": 15,
     "metadata": {},
     "output_type": "execute_result"
    }
   ],
   "source": [
    "final_df['V2021'].value_counts()"
   ]
  },
  {
   "cell_type": "code",
   "execution_count": 16,
   "id": "e2a11a3a",
   "metadata": {},
   "outputs": [
    {
     "data": {
      "text/plain": [
       "V2021\n",
       "1     482453\n",
       "3      14268\n",
       "4       5440\n",
       "99      4873\n",
       "98      2841\n",
       "2        519\n",
       "Name: count, dtype: int64"
      ]
     },
     "execution_count": 16,
     "metadata": {},
     "output_type": "execute_result"
    }
   ],
   "source": [
    "#Combining several types of housing\n",
    "#hotel(2) - 2,3,9 \n",
    "#mobile home(3) - 5,6,10\n",
    "#quarters/dorms(4) - 4,8,11\n",
    "#residue(98) - 7,12,98\n",
    "final_df.loc[(final_df['V2021']==2) | (final_df['V2021']==3) | (final_df['V2021']==9),'V2021']=2\n",
    "final_df.loc[(final_df['V2021']==5) | (final_df['V2021']==6) | (final_df['V2021']==10),'V2021']=3\n",
    "final_df.loc[(final_df['V2021']==4) | (final_df['V2021']==8) | (final_df['V2021']==11),'V2021']=4\n",
    "final_df.loc[(final_df['V2021']==7) | (final_df['V2021']==12) | (final_df['V2021']==98),'V2021']=98\n",
    "final_df['V2021'].value_counts()"
   ]
  },
  {
   "cell_type": "code",
   "execution_count": null,
   "id": "ed63f2ce",
   "metadata": {},
   "outputs": [],
   "source": []
  }
 ],
 "metadata": {
  "kernelspec": {
   "display_name": "Python 3 (ipykernel)",
   "language": "python",
   "name": "python3"
  },
  "language_info": {
   "codemirror_mode": {
    "name": "ipython",
    "version": 3
   },
   "file_extension": ".py",
   "mimetype": "text/x-python",
   "name": "python",
   "nbconvert_exporter": "python",
   "pygments_lexer": "ipython3",
   "version": "3.11.5"
  }
 },
 "nbformat": 4,
 "nbformat_minor": 5
}
